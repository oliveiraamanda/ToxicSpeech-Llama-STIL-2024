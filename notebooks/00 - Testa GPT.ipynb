{
 "cells": [
  {
   "cell_type": "code",
   "execution_count": null,
   "id": "fd777a02-2827-4fe9-962a-188f8466f0e6",
   "metadata": {},
   "outputs": [],
   "source": [
    "import os\n",
    "import openai\n",
    "from openai import OpenAI\n",
    "import pandas as pd\n",
    "from tqdm.contrib.concurrent import thread_map\n",
    "import time\n",
    "from multiprocessing import Pool\n",
    "from tqdm import tqdm\n",
    "from tqdm import tqdm_notebook\n",
    "import numpy as np\n",
    "import string\n",
    "from bs4 import BeautifulSoup\n",
    "import unicodedata\n",
    "import re\n",
    "from sklearn.metrics import classification_report\n",
    "\n",
    "pd.set_option('display.max_colwidth', 1)"
   ]
  },
  {
   "cell_type": "code",
   "execution_count": null,
   "id": "51cd1b4e-c4df-4a17-b99c-19ad172ce04a",
   "metadata": {},
   "outputs": [],
   "source": [
    "client = OpenAI(api_key=\"\")"
   ]
  },
  {
   "cell_type": "code",
   "execution_count": null,
   "id": "4b2dcaa7-4bba-4a30-8b2c-94993369639b",
   "metadata": {},
   "outputs": [],
   "source": [
    "def classifica_com_gpt(text):\n",
    "    MODEL=\"gpt-4-turbo\"\n",
    "    \n",
    "    completion = client.chat.completions.create(\n",
    "      model=MODEL,\n",
    "      messages=[\n",
    "        {\"role\": \"system\", \"content\": \"Você está analisando uma postagem de uma rede social. Caso o texto contenha discurso de ódio, ofensas, agressões, xingamentos, palavrões ou qualquer forma de toxicidade, responda apenas com 'sim'. Se for adequado e sem toxicidade, responda 'não'.\"},\n",
    "        {\"role\": \"user\", \"content\": text}\n",
    "      ]\n",
    "    )\n",
    "    return completion.choices[0].message.content"
   ]
  },
  {
   "cell_type": "code",
   "execution_count": null,
   "id": "869c8754-8f9e-4d15-b7bc-ef0b8f106b79",
   "metadata": {},
   "outputs": [],
   "source": [
    "classifica_com_gpt('oi')"
   ]
  },
  {
   "cell_type": "code",
   "execution_count": null,
   "id": "0a5b917f-2193-43b3-9a27-f462ff3eecd4",
   "metadata": {},
   "outputs": [],
   "source": [
    "data = pd.read_csv('test_toldbr.csv')"
   ]
  },
  {
   "cell_type": "code",
   "execution_count": null,
   "id": "49200282-319b-4a6f-937e-e56800e6cfa4",
   "metadata": {
    "scrolled": true
   },
   "outputs": [],
   "source": [
    "data"
   ]
  },
  {
   "cell_type": "code",
   "execution_count": null,
   "id": "bee9abf0-8348-4dcc-b1d7-bd40b1372594",
   "metadata": {},
   "outputs": [],
   "source": [
    "len(data)"
   ]
  },
  {
   "cell_type": "code",
   "execution_count": null,
   "id": "795b71c5-945e-429a-a47b-8b98822a005b",
   "metadata": {},
   "outputs": [],
   "source": [
    "tqdm.pandas(desc=\"Classificando textos\")\n",
    "data['pred_gpt4-turbo'] = data['clean_text'].progress_apply(classifica_com_gpt)"
   ]
  },
  {
   "cell_type": "code",
   "execution_count": null,
   "id": "b4a81256-7710-4c60-ba70-38afb82f4f64",
   "metadata": {},
   "outputs": [],
   "source": [
    "data.to_csv('test_told_result_gpt4-turbo_.csv', index=False)"
   ]
  },
  {
   "cell_type": "code",
   "execution_count": null,
   "id": "d0080ff4-b38f-4e4b-9f71-c316238281a0",
   "metadata": {},
   "outputs": [],
   "source": []
  }
 ],
 "metadata": {
  "kernelspec": {
   "display_name": "Python 3.10",
   "language": "python",
   "name": "python3.10"
  },
  "language_info": {
   "codemirror_mode": {
    "name": "ipython",
    "version": 3
   },
   "file_extension": ".py",
   "mimetype": "text/x-python",
   "name": "python",
   "nbconvert_exporter": "python",
   "pygments_lexer": "ipython3",
   "version": "3.10.12"
  }
 },
 "nbformat": 4,
 "nbformat_minor": 5
}
