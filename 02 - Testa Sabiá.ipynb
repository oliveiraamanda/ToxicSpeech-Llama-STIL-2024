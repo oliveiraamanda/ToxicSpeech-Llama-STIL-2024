{
 "cells": [
  {
   "cell_type": "code",
   "execution_count": null,
   "id": "19878d78-a944-4bd8-bc31-011a606233ac",
   "metadata": {},
   "outputs": [],
   "source": [
    "import maritalk\n",
    "from tqdm.contrib.concurrent import thread_map\n",
    "import pandas as pd\n",
    "from tqdm import tqdm\n",
    "from sklearn.metrics import classification_report"
   ]
  },
  {
   "cell_type": "code",
   "execution_count": null,
   "id": "6d381acc-9cbb-4375-8838-24e6ec158b3a",
   "metadata": {},
   "outputs": [],
   "source": [
    "api_key = \"\""
   ]
  },
  {
   "cell_type": "code",
   "execution_count": null,
   "id": "6ec5bec4-e863-4988-bab4-a2a098c3ab25",
   "metadata": {},
   "outputs": [],
   "source": [
    "def get_response(text):\n",
    "    \n",
    "    model = maritalk.MariTalk(\n",
    "        key=api_key,\n",
    "        model=\"sabia-3\"\n",
    "    )\n",
    "\n",
    "    response = model.generate(\"Você está analisando uma postagem de uma rede social. Caso o texto contenha discurso de ódio, ofensas, agressões, xingamentos, palavrões ou qualquer forma de toxicidade, responda apenas com 'sim'. Se for adequado e sem toxicidade, responda 'não'.\" + text)\n",
    "    return response[\"answer\"]"
   ]
  },
  {
   "cell_type": "code",
   "execution_count": null,
   "id": "d2933393-4395-40d8-9f71-1ca36052f07b",
   "metadata": {},
   "outputs": [],
   "source": [
    "data_original = pd.read_csv('test_toldbr.csv')"
   ]
  },
  {
   "cell_type": "code",
   "execution_count": null,
   "id": "7df22c4b-f57b-4d81-8af4-e98b3e6140a5",
   "metadata": {
    "scrolled": true
   },
   "outputs": [],
   "source": [
    "data"
   ]
  },
  {
   "cell_type": "code",
   "execution_count": null,
   "id": "d4a206cc-f13f-4691-962d-355c0f451fc7",
   "metadata": {},
   "outputs": [],
   "source": [
    "len(data)"
   ]
  },
  {
   "cell_type": "code",
   "execution_count": null,
   "id": "a7ff6723-d304-4396-b19b-44d4690b00c6",
   "metadata": {},
   "outputs": [],
   "source": [
    "tqdm.pandas(desc=\"Classificando textos\")\n",
    "data['sabia_3'] = data['clean_text'].progress_apply(get_response)"
   ]
  },
  {
   "cell_type": "code",
   "execution_count": null,
   "id": "8bcfa63f-897a-4045-9b4b-3622546f1e39",
   "metadata": {},
   "outputs": [],
   "source": [
    "data.to_csv('sabia_told_br.csv', index=False)"
   ]
  },
  {
   "cell_type": "code",
   "execution_count": null,
   "id": "9fac54d0-bb9c-433d-a4de-4d0f44fdd7ff",
   "metadata": {},
   "outputs": [],
   "source": [
    "data.Toxic.loc[data.Toxic==1.0]='sim'\n",
    "data.Toxic.loc[data.Toxic==0.0]='não'"
   ]
  },
  {
   "cell_type": "code",
   "execution_count": null,
   "id": "e018eefc-bd03-4aa4-8b37-8b56e11665fc",
   "metadata": {},
   "outputs": [],
   "source": [
    "data"
   ]
  },
  {
   "cell_type": "code",
   "execution_count": null,
   "id": "23d5e5ca-0a83-4f75-ae3d-15fbdb14cc9a",
   "metadata": {},
   "outputs": [],
   "source": []
  }
 ],
 "metadata": {
  "kernelspec": {
   "display_name": "Python 3.10",
   "language": "python",
   "name": "myenv"
  },
  "language_info": {
   "codemirror_mode": {
    "name": "ipython",
    "version": 3
   },
   "file_extension": ".py",
   "mimetype": "text/x-python",
   "name": "python",
   "nbconvert_exporter": "python",
   "pygments_lexer": "ipython3",
   "version": "3.10.12"
  }
 },
 "nbformat": 4,
 "nbformat_minor": 5
}
