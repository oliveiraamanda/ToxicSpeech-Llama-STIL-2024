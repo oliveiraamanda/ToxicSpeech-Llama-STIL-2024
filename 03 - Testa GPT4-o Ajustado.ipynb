{
 "cells": [
  {
   "cell_type": "code",
   "execution_count": null,
   "id": "fa0ea3ec-fc0d-4858-ba3f-fad452c0d093",
   "metadata": {},
   "outputs": [],
   "source": [
    "import pandas as pd\n",
    "import openpyxl\n",
    "import os\n",
    "import re\n",
    "import openai\n",
    "from tqdm import tqdm\n",
    "from openai import AzureOpenAI\n",
    "from dotenv import load_dotenv\n",
    "import json\n",
    "from tqdm.contrib.concurrent import thread_map\n",
    "from langchain_openai import AzureChatOpenAI\n",
    "from langchain.schema import HumanMessage, SystemMessage\n",
    "from tqdm.contrib.concurrent import thread_map\n",
    "from sklearn.metrics import classification_report\n",
    "\n",
    "pd.set_option('display.max_colwidth', 1)"
   ]
  },
  {
   "cell_type": "code",
   "execution_count": null,
   "id": "a93b6462-6359-4f02-aea2-a52edf06be40",
   "metadata": {},
   "outputs": [],
   "source": [
    "import os\n",
    "\n",
    "os.environ[\"AZURE_OPENAI_ENDPOINT\"] = \"\"\n",
    "os.environ[\"AZURE_OPENAI_API_KEY\"] = \"\"\n",
    "os.environ[\"OPENAI_API_VERSION\"] = \"\""
   ]
  },
  {
   "cell_type": "code",
   "execution_count": null,
   "id": "549c303a-e92b-43af-a19d-25327a4af9cc",
   "metadata": {},
   "outputs": [],
   "source": [
    "load_dotenv('openai.env')\n",
    "\n",
    "azure_endpoint = os.getenv('AZURE_OPENAI_ENDPOINT')  \n",
    "azure_api_key = os.getenv('AZURE_OPENAI_API_KEY')  \n",
    "openai_api_version = os.getenv('OPENAI_API_VERSION')  "
   ]
  },
  {
   "cell_type": "code",
   "execution_count": null,
   "id": "219cdb85-9347-4fb6-a8fb-07d741b11960",
   "metadata": {},
   "outputs": [],
   "source": [
    "llm = AzureChatOpenAI(azure_deployment=\"artigo_stil\",temperature=0)"
   ]
  },
  {
   "cell_type": "code",
   "execution_count": null,
   "id": "4de26b62-7464-48ba-8e52-dcfd97b7d59c",
   "metadata": {},
   "outputs": [],
   "source": [
    "def run_gpt_ajustado(text):\n",
    "    PROMPT_CLASSIFICATION = \"Você está analisando uma postagem de uma rede social. Caso o texto contenha discurso de ódio, ofensas, agressões, xingamentos, palavrões ou qualquer forma de toxicidade, responda apenas com 'sim'. Se for adequado e sem toxicidade, responda 'não'.\" + text\n",
    "    try:\n",
    "        result = llm.invoke(PROMPT_CLASSIFICATION.format(query=text))\n",
    "        return result.content\n",
    "    except Exception as e:\n",
    "        if \"The response was filtered due to the prompt triggering Azure OpenAI's content management policy\" in str(e):\n",
    "            return \"erro_content_moderation\"\n",
    "        else:\n",
    "            raise e\n"
   ]
  },
  {
   "cell_type": "code",
   "execution_count": null,
   "id": "aa83ff5d-27cf-4f22-82ff-4a3b559fed77",
   "metadata": {},
   "outputs": [],
   "source": [
    "run_gpt_ajustado('oi')"
   ]
  },
  {
   "cell_type": "code",
   "execution_count": null,
   "id": "70b6bb2a-aca0-4e49-8be8-5e03716214ae",
   "metadata": {},
   "outputs": [],
   "source": [
    "data = pd.read_csv('test_toldbr.csv')"
   ]
  },
  {
   "cell_type": "code",
   "execution_count": null,
   "id": "abd4f8d8-5650-4242-bbde-b91216506b5a",
   "metadata": {
    "scrolled": true
   },
   "outputs": [],
   "source": [
    "data"
   ]
  },
  {
   "cell_type": "code",
   "execution_count": null,
   "id": "fd140583-8cf7-4a76-a9cf-871705f590b9",
   "metadata": {},
   "outputs": [],
   "source": [
    "tqdm.pandas(desc=\"Classificando textos\")\n",
    "data['gpt4omini_ajustado'] = data['clean_text'].progress_apply(run_gpt_ajustado)"
   ]
  },
  {
   "cell_type": "code",
   "execution_count": null,
   "id": "06aa8064-c4e8-4aa1-9fe2-21cf645d47fd",
   "metadata": {},
   "outputs": [],
   "source": [
    "data.to_csv('test_told_result_gptasjutado_1.csv', index=False)"
   ]
  },
  {
   "cell_type": "code",
   "execution_count": null,
   "id": "2c0edfe6-b86e-4458-8be0-1ae406f0c559",
   "metadata": {},
   "outputs": [],
   "source": [
    "data = data_gpt"
   ]
  },
  {
   "cell_type": "code",
   "execution_count": null,
   "id": "55d3c3cd-c851-4680-a166-efd993056b3c",
   "metadata": {},
   "outputs": [],
   "source": [
    "data_gpt.Toxic.loc[data_gpt.Toxic==1.0]='sim'\n",
    "data_gpt.Toxic.loc[data_gpt.Toxic==0.0]='não'"
   ]
  },
  {
   "cell_type": "code",
   "execution_count": null,
   "id": "87487948-9996-459a-bc90-310c195bf4ec",
   "metadata": {},
   "outputs": [],
   "source": [
    "data_gpt"
   ]
  },
  {
   "cell_type": "code",
   "execution_count": null,
   "id": "99dbd7fe-b57d-4a8a-8e40-0d2f76f38cf5",
   "metadata": {},
   "outputs": [],
   "source": [
    "print(classification_report(data_gpt['Toxic'], data_gpt['gpt4omini_ajustado']))"
   ]
  },
  {
   "cell_type": "code",
   "execution_count": null,
   "id": "2e82a525-c654-4847-85cb-0c7156350849",
   "metadata": {},
   "outputs": [],
   "source": []
  }
 ],
 "metadata": {
  "kernelspec": {
   "display_name": "Python 3.10",
   "language": "python",
   "name": "python3.10"
  },
  "language_info": {
   "codemirror_mode": {
    "name": "ipython",
    "version": 3
   },
   "file_extension": ".py",
   "mimetype": "text/x-python",
   "name": "python",
   "nbconvert_exporter": "python",
   "pygments_lexer": "ipython3",
   "version": "3.10.12"
  }
 },
 "nbformat": 4,
 "nbformat_minor": 5
}
